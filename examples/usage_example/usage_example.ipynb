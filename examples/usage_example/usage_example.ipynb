{
 "cells": [
  {
   "cell_type": "markdown",
   "metadata": {},
   "source": [
    "![full slice](D-R_Z0071_example.tif)"
   ]
  },
  {
   "cell_type": "markdown",
   "metadata": {},
   "source": [
    "![cropped](D-R_Z0071_cropped.tif)"
   ]
  },
  {
   "cell_type": "code",
   "execution_count": null,
   "metadata": {},
   "outputs": [],
   "source": [
    "%%bash\n",
    "deep_segment.py \\\n",
    "--verbose \\\n",
    "--image ../training_example/raw/AIDOXNTDT_14_SO_10_Z0020_image.tif \\\n",
    "--learner ../training_example/training_example.pkl \\\n",
    "--cell-min-area 14 \\\n",
    "--temp-dir . \\\n",
    "--segment-output AIDOXNTDT_14_SO_10_Z0020_segment.tif \\\n",
    "--outlines-output AIDOXNTDT_14_SO_10_Z0020_outlines.tif"
   ]
  },
  {
   "cell_type": "markdown",
   "metadata": {},
   "source": [
    "![outlines](D-R_Z0071_cropped_outlines.tif)"
   ]
  },
  {
   "cell_type": "markdown",
   "metadata": {},
   "source": [
    "![segmentation](D-R_Z0071_cropped_segment.tif)"
   ]
  }
 ],
 "metadata": {
  "kernelspec": {
   "display_name": "Python 3",
   "language": "python",
   "name": "python3"
  },
  "language_info": {
   "codemirror_mode": {
    "name": "ipython",
    "version": 3
   },
   "file_extension": ".py",
   "mimetype": "text/x-python",
   "name": "python",
   "nbconvert_exporter": "python",
   "pygments_lexer": "ipython3",
   "version": "3.6.4"
  }
 },
 "nbformat": 4,
 "nbformat_minor": 2
}
