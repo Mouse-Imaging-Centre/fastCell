{
 "cells": [
  {
   "cell_type": "markdown",
   "metadata": {},
   "source": [
    "![full slice](D-R_Z0071_example.tif)"
   ]
  },
  {
   "cell_type": "markdown",
   "metadata": {},
   "source": [
    "![cropped](D-R_Z0071_cropped.tif)"
   ]
  },
  {
   "cell_type": "code",
   "execution_count": null,
   "metadata": {},
   "outputs": [],
   "source": [
    "%%bash\n",
    "deep_segment.py \\\n",
    "--image D-R_Z0071_cropped.tif \\\n",
    "--learner /project/6001494/nzxwang/repos/datastory/fastai/green-fluorescence_CNP_oligodendrocyte-segmenter/models/2019-07-02_RESNET50_IOU0.43_2stage.pkl \\\n",
    "--cell-min-area 14 \\\n",
    "--temp-dir . \\\n",
    "--segment-output D-R_Z0071_cropped_segment.tif \\\n",
    "--outlines-output D-R_Z0071_outlines_segment.tif"
   ]
  },
  {
   "cell_type": "markdown",
   "metadata": {},
   "source": [
    "![outlines](D-R_Z0071_cropped_outlines.tif)"
   ]
  },
  {
   "cell_type": "markdown",
   "metadata": {},
   "source": [
    "![segmentation](D-R_Z0071_cropped_segment.tif)"
   ]
  }
 ],
 "metadata": {
  "kernelspec": {
   "display_name": "Python 3",
   "language": "python",
   "name": "python3"
  },
  "language_info": {
   "codemirror_mode": {
    "name": "ipython",
    "version": 3
   },
   "file_extension": ".py",
   "mimetype": "text/x-python",
   "name": "python",
   "nbconvert_exporter": "python",
   "pygments_lexer": "ipython3",
   "version": "3.7.4"
  }
 },
 "nbformat": 4,
 "nbformat_minor": 2
}
